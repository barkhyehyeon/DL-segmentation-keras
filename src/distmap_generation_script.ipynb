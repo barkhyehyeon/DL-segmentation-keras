{
 "cells": [
  {
   "cell_type": "code",
   "execution_count": null,
   "metadata": {
    "ExecuteTime": {
     "end_time": "2020-04-24T08:23:22.913742Z",
     "start_time": "2020-04-24T08:23:22.534571Z"
    }
   },
   "outputs": [],
   "source": [
    "import numpy as np\n",
    "from tqdm import tqdm\n",
    "from skimage.morphology import skeletonize\n",
    "from scipy import ndimage\n",
    "\n",
    "IMG_HEIGHT, IMG_WIDTH = 512, 512"
   ]
  },
  {
   "cell_type": "code",
   "execution_count": null,
   "metadata": {
    "ExecuteTime": {
     "end_time": "2020-04-22T06:40:13.040008Z",
     "start_time": "2020-04-22T06:36:31.848177Z"
    }
   },
   "outputs": [],
   "source": [
    "dirname = '/data/ys/hh/QCA_imgs/raw/Fold'\n",
    "\n",
    "for i in range(1, 6):\n",
    "    path = dirname + str(i)\n",
    "    Y = np.load(path + '/Y.npy')\n",
    "    Y = (Y > 0) * 1\n",
    "    D = np.zeros((len(Y), IMG_HEIGHT, IMG_WIDTH, 1), dtype=np.float64)\n",
    "    for j in tqdm(range(len(Y))):\n",
    "        cl = skeletonize(Y[j,...,0])\n",
    "        back = (cl == 0) * 1\n",
    "        dist = ndimage.distance_transform_edt(back)\n",
    "        D[j,...,0] = dist\n",
    "    np.save(path + '/D_cl.npy', D)"
   ]
  },
  {
   "cell_type": "code",
   "execution_count": null,
   "metadata": {
    "ExecuteTime": {
     "end_time": "2020-04-22T06:40:22.255983Z",
     "start_time": "2020-04-22T06:40:22.092859Z"
    }
   },
   "outputs": [],
   "source": [
    "import matplotlib.pyplot as plt\n",
    "plt.imshow(D[5,...,0])"
   ]
  },
  {
   "cell_type": "code",
   "execution_count": null,
   "metadata": {
    "ExecuteTime": {
     "end_time": "2020-04-17T01:33:13.762929Z",
     "start_time": "2020-04-17T01:32:22.825055Z"
    }
   },
   "outputs": [],
   "source": [
    "dirname = '/data/ys/hh/QCA_imgs/raw/Fold'\n",
    "for i in range(1, 6):\n",
    "    path = dirname + str(i)\n",
    "    D = np.load(path + '/D.npy')\n",
    "    D_mask = (D != 0) * 1\n",
    "    D = D + (D == 0) * 1\n",
    "    D = 1 / D\n",
    "    D = D * D_mask\n",
    "    np.save(path + '/D_rev.npy', D)"
   ]
  },
  {
   "cell_type": "code",
   "execution_count": null,
   "metadata": {
    "ExecuteTime": {
     "end_time": "2020-04-17T01:33:19.886824Z",
     "start_time": "2020-04-17T01:33:19.744308Z"
    }
   },
   "outputs": [],
   "source": [
    "import matplotlib.pyplot as plt\n",
    "plt.imshow(D[5,...,0])"
   ]
  },
  {
   "cell_type": "code",
   "execution_count": null,
   "metadata": {
    "ExecuteTime": {
     "end_time": "2020-04-17T01:36:45.894999Z",
     "start_time": "2020-04-17T01:36:45.886601Z"
    }
   },
   "outputs": [],
   "source": [
    "print(D[5,...,0])"
   ]
  },
  {
   "cell_type": "code",
   "execution_count": null,
   "metadata": {},
   "outputs": [],
   "source": []
  }
 ],
 "metadata": {
  "kernelspec": {
   "display_name": "Python 3",
   "language": "python",
   "name": "python3"
  },
  "language_info": {
   "codemirror_mode": {
    "name": "ipython",
    "version": 3
   },
   "file_extension": ".py",
   "mimetype": "text/x-python",
   "name": "python",
   "nbconvert_exporter": "python",
   "pygments_lexer": "ipython3",
   "version": "3.5.2"
  },
  "toc": {
   "base_numbering": 1,
   "nav_menu": {},
   "number_sections": true,
   "sideBar": true,
   "skip_h1_title": false,
   "title_cell": "Table of Contents",
   "title_sidebar": "Contents",
   "toc_cell": false,
   "toc_position": {},
   "toc_section_display": true,
   "toc_window_display": false
  },
  "varInspector": {
   "cols": {
    "lenName": 16,
    "lenType": 16,
    "lenVar": 40
   },
   "kernels_config": {
    "python": {
     "delete_cmd_postfix": "",
     "delete_cmd_prefix": "del ",
     "library": "var_list.py",
     "varRefreshCmd": "print(var_dic_list())"
    },
    "r": {
     "delete_cmd_postfix": ") ",
     "delete_cmd_prefix": "rm(",
     "library": "var_list.r",
     "varRefreshCmd": "cat(var_dic_list()) "
    }
   },
   "types_to_exclude": [
    "module",
    "function",
    "builtin_function_or_method",
    "instance",
    "_Feature"
   ],
   "window_display": false
  }
 },
 "nbformat": 4,
 "nbformat_minor": 2
}
