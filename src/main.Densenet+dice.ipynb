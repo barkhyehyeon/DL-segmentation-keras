{
 "cells": [
  {
   "cell_type": "code",
   "execution_count": null,
   "metadata": {
    "ExecuteTime": {
     "end_time": "2020-04-24T00:14:05.645859Z",
     "start_time": "2020-04-24T00:14:04.283212Z"
    }
   },
   "outputs": [],
   "source": [
    "import data_prep\n",
    "from loss import dice_coef_loss, dice_coef\n",
    "import evaluate\n",
    "import my_utils\n",
    "\n",
    "import os\n",
    "import math\n",
    "import numpy as np\n",
    "import pandas as pd\n",
    "\n",
    "from sklearn.utils import shuffle\n",
    "\n",
    "import sys\n",
    "sys.path.append('/data/ys/hh/my_project/')\n",
    "from segmentation_models.backbones import get_preprocessing\n",
    "from segmentation_models import Unet\n",
    "\n",
    "from keras.optimizers import Adam\n",
    "from keras.callbacks import ModelCheckpoint, ReduceLROnPlateau, EarlyStopping, TensorBoard\n",
    "from keras.models import Model, load_model\n",
    "\n",
    "# os.environ[\"CUDA_VISIBLE_DEVICES\"]='0,1'\n",
    "\n",
    "np.random.seed(42)\n",
    "SEED = 42\n",
    "\n",
    "ROW, COL = 512, 512\n",
    "NB_CLASS = 2\n",
    "\n",
    "BATCH_SIZE = 16\n",
    "EPOCHS = 400\n",
    "\n",
    "val_fold = 4\n",
    "tst_fold = 5\n",
    "\n",
    "sfile = 'B_DenseNet_imgsize[{},{}]_batch[{}]_epochs[{}]_valfold[{}]_tstfold[{}]_dice.h5'.format(ROW,COL, \n",
    "                                                                                                BATCH_SIZE, EPOCHS, \n",
    "                                                                                                val_fold, tst_fold)\n",
    "SAVE_DIR = '/data/ys/hh/my_project/result/' + sfile[:-3]\n",
    "try:\n",
    "    os.mkdir(SAVE_DIR)\n",
    "except:\n",
    "    pass\n",
    "\n",
    "%load_ext autoreload\n",
    "%autoreload 2"
   ]
  },
  {
   "cell_type": "code",
   "execution_count": null,
   "metadata": {
    "ExecuteTime": {
     "end_time": "2020-04-24T00:14:22.877795Z",
     "start_time": "2020-04-24T00:14:05.742997Z"
    }
   },
   "outputs": [],
   "source": [
    "# load data\n",
    "\n",
    "dirname = '/data/ys/hh/QCA_imgs/raw/Fold'\n",
    "X = list(data_prep.load_data_5fold(dirname, 'X.npy', val_fold, tst_fold))\n",
    "Y = list(data_prep.load_data_5fold(dirname, 'Y.npy', val_fold, tst_fold))"
   ]
  },
  {
   "cell_type": "code",
   "execution_count": null,
   "metadata": {
    "ExecuteTime": {
     "end_time": "2020-04-24T00:15:10.717791Z",
     "start_time": "2020-04-24T00:14:23.002982Z"
    }
   },
   "outputs": [],
   "source": [
    "# prep data\n",
    "\n",
    "X, Y = data_prep.shuffle_resize_encode_data(X, Y, seed=SEED, row=ROW, col=COL)"
   ]
  },
  {
   "cell_type": "code",
   "execution_count": null,
   "metadata": {
    "ExecuteTime": {
     "end_time": "2020-04-24T00:15:17.921794Z",
     "start_time": "2020-04-24T00:15:10.898989Z"
    }
   },
   "outputs": [],
   "source": [
    "try:\n",
    "    os.mkdir(SAVE_DIR + '/X')\n",
    "    os.mkdir(SAVE_DIR + '/Y')\n",
    "except:\n",
    "    pass\n",
    "\n",
    "my_utils.save_imgs(SAVE_DIR + '/X', X[2][...,0])\n",
    "my_utils.save_imgs(SAVE_DIR + '/Y', Y[2][...,1] * 255)"
   ]
  },
  {
   "cell_type": "code",
   "execution_count": null,
   "metadata": {
    "ExecuteTime": {
     "end_time": "2020-04-24T00:15:50.105787Z",
     "start_time": "2020-04-24T00:15:18.103016Z"
    }
   },
   "outputs": [],
   "source": [
    "# preprocess X (required when using 'segmentation_models')\n",
    "\n",
    "for i in range(3):\n",
    "    X[i] = get_preprocessing('densenet121')(X[i])"
   ]
  },
  {
   "cell_type": "code",
   "execution_count": null,
   "metadata": {
    "ExecuteTime": {
     "end_time": "2020-04-24T00:16:03.165790Z",
     "start_time": "2020-04-24T00:15:50.275065Z"
    },
    "scrolled": true
   },
   "outputs": [],
   "source": [
    "trn_datagen_args = dict(rotation_range=20, width_shift_range=0.1, height_shift_range=0.1, zoom_range=0.1, fill_mode='nearest')\n",
    "trn_generator = data_prep.augment_data(X[0], Y[0], BATCH_SIZE, SEED, trn_datagen_args)\n",
    "vld_generator = data_prep.augment_data(X[1], Y[1], BATCH_SIZE, SEED)"
   ]
  },
  {
   "cell_type": "code",
   "execution_count": null,
   "metadata": {
    "ExecuteTime": {
     "end_time": "2020-04-24T00:17:11.657764Z",
     "start_time": "2020-04-24T00:16:07.416439Z"
    }
   },
   "outputs": [],
   "source": [
    "# prepare model\n",
    "\n",
    "model = Unet(input_shape = X[0][0].shape, backbone_name='densenet121', encoder_weights='imagenet', classes=NB_CLASS)\n",
    "model = my_utils.ModelMGPU(model, gpus=4)\n",
    "adam = Adam(lr=0.001)\n",
    "model.compile(optimizer=adam, loss=dice_coef_loss, metrics=[dice_coef])\n",
    "model.summary()"
   ]
  },
  {
   "cell_type": "code",
   "execution_count": null,
   "metadata": {
    "ExecuteTime": {
     "end_time": "2020-04-24T05:35:32.329678Z",
     "start_time": "2020-04-24T05:34:41.084737Z"
    },
    "scrolled": true
   },
   "outputs": [],
   "source": [
    "# train model\n",
    "\n",
    "spath = SAVE_DIR + '/' + sfile\n",
    "checkpointer = ModelCheckpoint(spath, save_best_only=True, verbose=1)\n",
    "reduce_lr = ReduceLROnPlateau(factor=0.5, patience=20, min_lr=0.000001, verbose=1)\n",
    "early_stopper = EarlyStopping(patience=80, verbose=1)\n",
    "tensorboard = TensorBoard(log_dir='./tb_logs', histogram_freq=0, write_graph=True, write_images=True)\n",
    "\n",
    "callbacks_lst = [checkpointer, reduce_lr, early_stopper, tensorboard]\n",
    "\n",
    "history = model.fit_generator(trn_generator, validation_data=vld_generator,\n",
    "                    validation_steps=math.ceil(len(X[1]) / BATCH_SIZE), steps_per_epoch=math.ceil(len(X[0]) / BATCH_SIZE),\n",
    "                    epochs=EPOCHS, callbacks=callbacks_lst, shuffle=False)\n",
    "\n",
    "spath = SAVE_DIR + '/train_history.csv'\n",
    "pd.DataFrame(history.history).to_csv(spath)"
   ]
  },
  {
   "cell_type": "code",
   "execution_count": null,
   "metadata": {
    "ExecuteTime": {
     "end_time": "2020-04-24T05:34:35.623121Z",
     "start_time": "2020-04-24T01:52:27.928Z"
    }
   },
   "outputs": [],
   "source": [
    "# load saved model\n",
    "\n",
    "rpath = SAVE_DIR + '/' + sfile\n",
    "model = load_model(rpath, \n",
    "                   custom_objects={'dice_coef_loss': dice_coef_loss,'dice_coef': dice_coef})\n",
    "model.summary()"
   ]
  },
  {
   "cell_type": "code",
   "execution_count": null,
   "metadata": {
    "ExecuteTime": {
     "end_time": "2020-04-24T05:34:35.626987Z",
     "start_time": "2020-04-24T01:52:28.638Z"
    }
   },
   "outputs": [],
   "source": [
    "# predict\n",
    "\n",
    "P = model.predict(X[2], verbose=1)\n",
    "P = (P > 0.5).astype(np.uint8)"
   ]
  },
  {
   "cell_type": "code",
   "execution_count": null,
   "metadata": {
    "ExecuteTime": {
     "end_time": "2020-04-24T05:34:35.630483Z",
     "start_time": "2020-04-24T01:52:30.599Z"
    }
   },
   "outputs": [],
   "source": [
    "# calculate score\n",
    "\n",
    "spath = SAVE_DIR + '/dice.csv'\n",
    "evaluate.calculate_score(Y[2], P, 'Dice', save_path=spath)\n",
    "spath = SAVE_DIR + '/CLD.csv'\n",
    "evaluate.calculate_score(Y[2], P, 'CLD', save_path=spath)"
   ]
  },
  {
   "cell_type": "code",
   "execution_count": null,
   "metadata": {
    "ExecuteTime": {
     "end_time": "2020-04-23T00:04:06.946796Z",
     "start_time": "2020-04-23T00:04:06.908797Z"
    }
   },
   "outputs": [],
   "source": [
    "# visulalize training history\n",
    "\n",
    "# import matplotlib.pyplot as plt\n",
    "\n",
    "# # accuracy\n",
    "# plt.plot(history.history['dice_coef'])\n",
    "# plt.plot(history.history['val_dice_coef'])\n",
    "# plt.title('Model Accuracy')\n",
    "# plt.ylabel('DSC')\n",
    "# plt.xlabel('Epoch')\n",
    "# plt.legend(['Train', 'Validation'], loc='upper left')\n",
    "# plt.show()\n",
    "\n",
    "# # loss\n",
    "# plt.plot(history.history['loss'])\n",
    "# plt.plot(history.history['val_loss'])\n",
    "# plt.title('Model Loss')\n",
    "# plt.ylabel('Dice Loss')\n",
    "# plt.xlabel('Epoch')\n",
    "# plt.legend(['Train', 'Validation'], loc='upper left')\n",
    "# plt.show()"
   ]
  },
  {
   "cell_type": "code",
   "execution_count": null,
   "metadata": {
    "ExecuteTime": {
     "end_time": "2020-04-24T05:34:35.634154Z",
     "start_time": "2020-04-24T01:52:41.202Z"
    }
   },
   "outputs": [],
   "source": [
    "# save overlapped imgs\n",
    "\n",
    "try:\n",
    "    os.mkdir(SAVE_DIR + '/P')\n",
    "    os.mkdir(SAVE_DIR + '/O')\n",
    "except:\n",
    "    pass\n",
    "\n",
    "Y_t = Y[2][...,1]\n",
    "Y_f = np.ones(Y_t.shape, dtype=np.uint8) - Y_t\n",
    "P_t = P[...,1]\n",
    "P_f = np.ones(P_t.shape, dtype=np.uint8) - P_t\n",
    "\n",
    "TP = Y_t * P_t\n",
    "FP = Y_f * P_t\n",
    "FN = Y_t * P_f\n",
    "\n",
    "overlap = np.zeros((len(P), ROW, COL, 3), dtype=np.uint8)\n",
    "overlap[...,0] = TP * 255\n",
    "overlap[...,1] = (TP + FP) * 255 # P\n",
    "overlap[...,2] = (TP + FN) * 255 # Y\n",
    "\n",
    "my_utils.save_imgs(SAVE_DIR + '/P', P_t * 255)\n",
    "my_utils.save_imgs(SAVE_DIR + '/O', overlap)"
   ]
  },
  {
   "cell_type": "code",
   "execution_count": null,
   "metadata": {},
   "outputs": [],
   "source": []
  }
 ],
 "metadata": {
  "kernelspec": {
   "display_name": "Python 3",
   "language": "python",
   "name": "python3"
  },
  "language_info": {
   "codemirror_mode": {
    "name": "ipython",
    "version": 3
   },
   "file_extension": ".py",
   "mimetype": "text/x-python",
   "name": "python",
   "nbconvert_exporter": "python",
   "pygments_lexer": "ipython3",
   "version": "3.5.2"
  },
  "toc": {
   "base_numbering": 1,
   "nav_menu": {},
   "number_sections": true,
   "sideBar": true,
   "skip_h1_title": false,
   "title_cell": "Table of Contents",
   "title_sidebar": "Contents",
   "toc_cell": false,
   "toc_position": {},
   "toc_section_display": true,
   "toc_window_display": false
  },
  "varInspector": {
   "cols": {
    "lenName": 16,
    "lenType": 16,
    "lenVar": 40
   },
   "kernels_config": {
    "python": {
     "delete_cmd_postfix": "",
     "delete_cmd_prefix": "del ",
     "library": "var_list.py",
     "varRefreshCmd": "print(var_dic_list())"
    },
    "r": {
     "delete_cmd_postfix": ") ",
     "delete_cmd_prefix": "rm(",
     "library": "var_list.r",
     "varRefreshCmd": "cat(var_dic_list()) "
    }
   },
   "position": {
    "height": "144px",
    "left": "569px",
    "right": "20px",
    "top": "140px",
    "width": "350px"
   },
   "types_to_exclude": [
    "module",
    "function",
    "builtin_function_or_method",
    "instance",
    "_Feature"
   ],
   "window_display": false
  }
 },
 "nbformat": 4,
 "nbformat_minor": 2
}
