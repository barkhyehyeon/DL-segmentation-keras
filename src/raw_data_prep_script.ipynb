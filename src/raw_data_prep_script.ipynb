{
 "cells": [
  {
   "cell_type": "code",
   "execution_count": null,
   "metadata": {
    "ExecuteTime": {
     "end_time": "2020-03-17T04:56:33.355203Z",
     "start_time": "2020-03-17T04:56:32.973594Z"
    }
   },
   "outputs": [],
   "source": [
    "import os\n",
    "import csv\n",
    "from tqdm import tqdm\n",
    "import numpy as np\n",
    "import matplotlib.pyplot as plt\n",
    "\n",
    "from skimage.io import imread,imshow\n",
    "from skimage.transform import resize"
   ]
  },
  {
   "cell_type": "code",
   "execution_count": null,
   "metadata": {
    "ExecuteTime": {
     "end_time": "2020-03-17T05:02:03.099214Z",
     "start_time": "2020-03-17T04:57:30.231733Z"
    }
   },
   "outputs": [],
   "source": [
    "IMG_WIDTH, IMG_HEIGHT = 512, 512\n",
    "\n",
    "for i in range(1,6):\n",
    "    path = '/data/ys/hh/QCA_imgs/raw/Fold{}/'.format(str(i))\n",
    "    \n",
    "    Y_fnames = sorted(list(os.listdir(path + 'mask')))\n",
    "    for j in range(len(Y_fnames)-1, -1, -1):      \n",
    "        if 'CBN' not in Y_fnames[j]:\n",
    "            del Y_fnames[j]\n",
    "    \n",
    "    Y_MV = np.zeros((len(Y_fnames), IMG_HEIGHT, IMG_WIDTH, 1), dtype=np.uint8)\n",
    "    Y_LM = np.zeros((len(Y_fnames), IMG_HEIGHT, IMG_WIDTH, 1), dtype=np.uint8)\n",
    "    for j, f in tqdm(enumerate(Y_fnames), total=len(Y_fnames)):    \n",
    "        rpath = path + 'mask/' + f\n",
    "        img = imread(rpath)\n",
    "        img = resize(img, (IMG_HEIGHT, IMG_WIDTH), mode='constant', preserve_range=True)\n",
    "        MV = (img[:,:,0] == 255) * (img[:,:,1] == 255) * (img[:,:,2] == 0)\n",
    "        LM = (img[:,:,0] == 0) * (img[:,:,1] == 0) * (img[:,:,2] == 255)\n",
    "        back = (img[:,:,0] == img[:,:,1]) * (img[:,:,1] == img[:,:,2])\n",
    "        Y_MV[j,:,:,0] = MV * 255\n",
    "        Y_LM[j,:,:,0] = LM * 255\n",
    "\n",
    "    np.save(path + 'Y_MV.npy', Y_MV)\n",
    "    np.save(path + 'Y_LM.npy', Y_LM)"
   ]
  },
  {
   "cell_type": "code",
   "execution_count": null,
   "metadata": {
    "ExecuteTime": {
     "end_time": "2020-03-17T05:03:41.011142Z",
     "start_time": "2020-03-17T05:03:38.644360Z"
    }
   },
   "outputs": [],
   "source": [
    "X = np.load('/data/ys/hh/QCA_imgs/raw/Fold1/X.npy')\n",
    "Y_MV = np.load('/data/ys/hh/QCA_imgs/raw/Fold1/Y_MV.npy')\n",
    "Y_LM = np.load('/data/ys/hh/QCA_imgs/raw/Fold1/Y_LM.npy')\n",
    "\n",
    "n = 1\n",
    "fig = plt.figure(figsize=(20, 20))\n",
    "ax1 = fig.add_subplot(1, 2, 1)\n",
    "ax2 = fig.add_subplot(1, 2, 2)\n",
    "\n",
    "ax1.imshow(X[n,:,:,0], cmap='gray')\n",
    "ax2.imshow(Y_MV[n,:,:,0], cmap='gray')\n",
    "ax2.imshow(Y_LM[n,:,:,0], cmap='jet', alpha=0.5)"
   ]
  },
  {
   "cell_type": "code",
   "execution_count": null,
   "metadata": {},
   "outputs": [],
   "source": []
  }
 ],
 "metadata": {
  "kernelspec": {
   "display_name": "Python 3",
   "language": "python",
   "name": "python3"
  },
  "language_info": {
   "codemirror_mode": {
    "name": "ipython",
    "version": 3
   },
   "file_extension": ".py",
   "mimetype": "text/x-python",
   "name": "python",
   "nbconvert_exporter": "python",
   "pygments_lexer": "ipython3",
   "version": "3.5.2"
  },
  "toc": {
   "base_numbering": 1,
   "nav_menu": {},
   "number_sections": true,
   "sideBar": true,
   "skip_h1_title": false,
   "title_cell": "Table of Contents",
   "title_sidebar": "Contents",
   "toc_cell": false,
   "toc_position": {},
   "toc_section_display": true,
   "toc_window_display": false
  },
  "varInspector": {
   "cols": {
    "lenName": 16,
    "lenType": 16,
    "lenVar": 40
   },
   "kernels_config": {
    "python": {
     "delete_cmd_postfix": "",
     "delete_cmd_prefix": "del ",
     "library": "var_list.py",
     "varRefreshCmd": "print(var_dic_list())"
    },
    "r": {
     "delete_cmd_postfix": ") ",
     "delete_cmd_prefix": "rm(",
     "library": "var_list.r",
     "varRefreshCmd": "cat(var_dic_list()) "
    }
   },
   "types_to_exclude": [
    "module",
    "function",
    "builtin_function_or_method",
    "instance",
    "_Feature"
   ],
   "window_display": false
  }
 },
 "nbformat": 4,
 "nbformat_minor": 2
}
